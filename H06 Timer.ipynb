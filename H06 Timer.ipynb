{
 "cells": [
  {
   "cell_type": "code",
   "execution_count": 6,
   "metadata": {},
   "outputs": [],
   "source": [
    "import csv\n",
    "import pandas as pd\n",
    "import matplotlib.pyplot as plt\n",
    "import seaborn as sns\n",
    "import numpy as np\n",
    "from datetime import datetime\n",
    "import time\n",
    "import timeit\n",
    "\n"
   ]
  },
  {
   "cell_type": "code",
   "execution_count": 2,
   "metadata": {},
   "outputs": [
    {
     "name": "stdout",
     "output_type": "stream",
     "text": [
      "pd.read_csv took77.34033203125 seconds\n"
     ]
    }
   ],
   "source": [
    "#Q1. reading csv file into Data Frame\n",
    "start_time = time.time()\n",
    "df = pd.read_csv(\"H_2010_minutes.csv\", header = None, engine='python')\n",
    "print(\"pd.read_csv took%s seconds\" % (time.time() - start_time))\n",
    "                 \n",
    "\n"
   ]
  },
  {
   "cell_type": "code",
   "execution_count": 3,
   "metadata": {},
   "outputs": [
    {
     "name": "stdout",
     "output_type": "stream",
     "text": [
      "df.drop(columns took0.3653731346130371 seconds\n"
     ]
    }
   ],
   "source": [
    "start_time=time.time()\n",
    "df1 = df.drop(columns=[1,2,3,4,5,6])\n",
    "print(\"df.drop(columns took%s seconds\" % (time.time() - start_time))\n"
   ]
  },
  {
   "cell_type": "code",
   "execution_count": 4,
   "metadata": {},
   "outputs": [
    {
     "name": "stdout",
     "output_type": "stream",
     "text": [
      "df2 took169.72233319282532 seconds\n"
     ]
    }
   ],
   "source": [
    "#Q2. Spliiting\n",
    "start_time=time.time()\n",
    "df2 = df1[0].str.split(' ',expand=True)\n",
    "df2 = df2[[1,0,2]]\n",
    "print(\"df2 took%s seconds\" % (time.time() - start_time))"
   ]
  },
  {
   "cell_type": "code",
   "execution_count": 5,
   "metadata": {},
   "outputs": [
    {
     "name": "stdout",
     "output_type": "stream",
     "text": [
      "df3 took4.8951239585876465 seconds\n"
     ]
    }
   ],
   "source": [
    "#Q3.Subdividing the data\n",
    "start_time=time.time()\n",
    "df3 = df2.rename(columns={1: 'station id', 0:'minute', 2:'H'})\n",
    "print(\"df3 took%s seconds\" % (time.time() - start_time))"
   ]
  },
  {
   "cell_type": "code",
   "execution_count": 7,
   "metadata": {},
   "outputs": [
    {
     "name": "stdout",
     "output_type": "stream",
     "text": [
      "df3 took469.4314215183258 seconds\n"
     ]
    }
   ],
   "source": [
    "#Reorganizing the columns\n",
    "df3[['Month','Day']] = df3.minute.str.split(\"T\",expand=True,)\n",
    "df3 = df3.drop(columns=['minute'])\n",
    "df3 = df3[['station id', 'Month', 'Day', 'H']]\n",
    "print(\"df3 took%s seconds\" % (time.time() - start_time))"
   ]
  },
  {
   "cell_type": "code",
   "execution_count": 8,
   "metadata": {},
   "outputs": [
    {
     "name": "stdout",
     "output_type": "stream",
     "text": [
      "df4 took118.99166798591614 seconds\n"
     ]
    }
   ],
   "source": [
    "#Q4.set_index used to reorganize columns to rows\n",
    "start_time=time.time()\n",
    "df4 = df3.set_index(['station id', 'Month', 'Day'])\n",
    "print(\"df4 took%s seconds\" % (time.time() - start_time))"
   ]
  },
  {
   "cell_type": "code",
   "execution_count": null,
   "metadata": {},
   "outputs": [],
   "source": [
    "# Reasons for slower code\n",
    "First, the slower code was identified in the third question which invovled splitting, dropping and reshapping of the columns \n",
    "to Station id,Month, Day and H.The first time I executed the code, it took 976.35 seconds. This time other programs were\n",
    "open in my browser. The second time, I executed the code with no other browsers open and it gave me 469.43 seconds. \n",
    "Similar results were noted when I executed other codes with browsers open and closed. The second execution showed great \n",
    "reduction in time.Examining reasons for such slowness, I realize that the version of my jupiter is a little recent and slower in speed in executing some functions. \n",
    "Changing string into another format can cause slowness. In addition,when running the code,it may be looping for a number of times  and gathering other information\n",
    "for example statistics involved in the columns. Finally, I also think that running some codes while other programs are open may lead to slowness as evident in this."
   ]
  }
 ],
 "metadata": {
  "kernelspec": {
   "display_name": "Python 3",
   "language": "python",
   "name": "python3"
  },
  "language_info": {
   "codemirror_mode": {
    "name": "ipython",
    "version": 3
   },
   "file_extension": ".py",
   "mimetype": "text/x-python",
   "name": "python",
   "nbconvert_exporter": "python",
   "pygments_lexer": "ipython3",
   "version": "3.8.5"
  }
 },
 "nbformat": 4,
 "nbformat_minor": 4
}
